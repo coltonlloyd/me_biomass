{
 "cells": [
  {
   "cell_type": "code",
   "execution_count": 1,
   "metadata": {},
   "outputs": [
    {
     "name": "stderr",
     "output_type": "stream",
     "text": [
      "/home/sbrg-cjlloyd/cobrapy/cobra/io/__init__.py:12: UserWarning: cobra.io.sbml requires libsbml\n",
      "  warn(\"cobra.io.sbml requires libsbml\")\n"
     ]
    }
   ],
   "source": [
    "import cobra\n",
    "import cobra.test\n",
    "import pickle\n",
    "import pandas as pd\n",
    "from multime.auxotroph_analysis import load_model"
   ]
  },
  {
   "cell_type": "code",
   "execution_count": 2,
   "metadata": {},
   "outputs": [
    {
     "name": "stdout",
     "output_type": "stream",
     "text": [
      "12.0 protein_b3946 --> EG11905-MONOMER\n",
      "10000.0\n",
      "coa_p not in model\n",
      "10000.0\n",
      "thf_p not in model\n",
      "10000.0\n",
      "nadp_p not in model\n",
      "10000.0\n",
      "nad_p not in model\n",
      "10000.0\n",
      "ribflv_p not in model\n",
      "10000.0\n",
      "10000.0\n",
      "q8_p not in model\n",
      "10000.0\n",
      "2dmmq8_p not in model\n",
      "10000.0\n",
      "mqn8_p not in model\n",
      "10000.0\n",
      "fmn_p not in model\n",
      "10000.0\n",
      "fad_p not in model\n"
     ]
    }
   ],
   "source": [
    "me = load_model.load_me_model()"
   ]
  },
  {
   "cell_type": "code",
   "execution_count": 3,
   "metadata": {},
   "outputs": [
    {
     "name": "stdout",
     "output_type": "stream",
     "text": [
      "thmpp\n",
      "12\n",
      "12\n",
      "btn\n",
      "1\n",
      "1\n",
      "pydx5p\n",
      "62\n",
      "62\n",
      "cbl1, adocbl\n",
      "3\n",
      "3\n",
      "ribflv, fad, fmn, rbflvrd, fadh2, fmnh2\n",
      "111\n",
      "107\n",
      "nad, nadp, nadh, nadph\n",
      "227\n",
      "225\n",
      "thf, 10fthf, 5fthf, 5mthf, methf, mlthf, mththf\n",
      "19\n",
      "19\n",
      "coa\n",
      "71\n",
      "71\n"
     ]
    }
   ],
   "source": [
    "ijo = cobra.io.load_json_model('/home/sbrg-cjlloyd/Desktop/ecoli_M_models/iJO1366.json')\n",
    "vit_to_rs = {}\n",
    "# Get reactions catalyzed by proteins that use these metabolites as prosthetic groups\n",
    "for mets in [['thmpp'], ['btn'], ['pydx5p'], ['cbl1', 'adocbl'], \n",
    "             ['ribflv', 'fad', 'fmn', 'rbflvrd', 'fadh2', 'fmnh2'],\n",
    "            ['nad', 'nadp', 'nadh', 'nadph']]:\n",
    "    rs = []\n",
    "    for met in mets:\n",
    "        met = met+'_c'\n",
    "        for c in me.metabolites.get_by_id(met).reactions:\n",
    "            if not c.id.startswith('formation_') or c.id.endswith('alt'):\n",
    "                continue\n",
    "            for r in me.metabolites.get_by_id(c.id.replace('formation_', '')).reactions:\n",
    "                try:\n",
    "                    rs.append(r.stoichiometric_data.id)\n",
    "                except:\n",
    "                    continue\n",
    "    vit_to_rs[', '.join(mets)] = ', '.join(set(rs))\n",
    "    \n",
    "# Get reactions that use these metabolites as coenzymes\n",
    "for mets in [['nad', 'nadp', 'nadh', 'nadph'], ['thf', '10fthf', '5fthf', '5mthf', 'methf', 'mlthf', 'mththf'],\n",
    "             ['coa'], ['ribflv', 'fad', 'fmn', 'rbflvrd', 'fadh2', 'fmnh2']]:\n",
    "    rs = []\n",
    "    for met in mets:\n",
    "        for comp in ['_c', '_p', '_e']:\n",
    "            if met+comp not in ijo.metabolites:\n",
    "                continue\n",
    "            for r in ijo.metabolites.get_by_id(met + comp).reactions:\n",
    "                if 'biomass' in r.id.lower():\n",
    "                    continue\n",
    "                rs.append(r.id)\n",
    "    key = ', '.join(mets)\n",
    "    if key in vit_to_rs:\n",
    "        vit_to_rs[key] += ', '\n",
    "    else:\n",
    "        vit_to_rs[key] = ''\n",
    "    vit_to_rs[key] += ', '.join(set(rs))\n",
    "    \n",
    "# loop 1 and 2 can add the same reaction twice. account for that\n",
    "for key in list(vit_to_rs.keys()):\n",
    "    print(key)\n",
    "    print(len(vit_to_rs[key].split(', ')))\n",
    "    vit_to_rs[key] = ', '.join(set(vit_to_rs[key].split(', ')))\n",
    "    print(len(vit_to_rs[key].split(', ')))"
   ]
  },
  {
   "cell_type": "code",
   "execution_count": 4,
   "metadata": {},
   "outputs": [],
   "source": [
    "pd.DataFrame.from_dict(vit_to_rs, orient='index').to_csv('/home/sbrg-cjlloyd/Dropbox/vitamin_to_blocked_reactions.csv')"
   ]
  },
  {
   "cell_type": "code",
   "execution_count": 4,
   "metadata": {},
   "outputs": [
    {
     "data": {
      "text/html": [
       "<div>\n",
       "<style scoped>\n",
       "    .dataframe tbody tr th:only-of-type {\n",
       "        vertical-align: middle;\n",
       "    }\n",
       "\n",
       "    .dataframe tbody tr th {\n",
       "        vertical-align: top;\n",
       "    }\n",
       "\n",
       "    .dataframe thead th {\n",
       "        text-align: right;\n",
       "    }\n",
       "</style>\n",
       "<table border=\"1\" class=\"dataframe\">\n",
       "  <thead>\n",
       "    <tr style=\"text-align: right;\">\n",
       "      <th></th>\n",
       "      <th>0</th>\n",
       "    </tr>\n",
       "  </thead>\n",
       "  <tbody>\n",
       "    <tr>\n",
       "      <th>Thiamine \\n diphosphate</th>\n",
       "      <td>POR51, SEPHCHCS, GLXCL, DXPS, TKT2, ACHBS, AKG...</td>\n",
       "    </tr>\n",
       "    <tr>\n",
       "      <th>Biotin</th>\n",
       "      <td>ACCOAC</td>\n",
       "    </tr>\n",
       "    <tr>\n",
       "      <th>Pyridoxal \\n 5'-phosphate</th>\n",
       "      <td>LEUTAi, S_transfer_to_IscU_mod_1:2Fe1S, ICYSDS...</td>\n",
       "    </tr>\n",
       "    <tr>\n",
       "      <th>Cobalamin</th>\n",
       "      <td>MMM, METS, ETHAAL</td>\n",
       "    </tr>\n",
       "    <tr>\n",
       "      <th>Riboflavin</th>\n",
       "      <td>ACOAD4f, ARBTNR1, G3PD5, FRD2, FLDR22, G3PD6, ...</td>\n",
       "    </tr>\n",
       "    <tr>\n",
       "      <th>NAD</th>\n",
       "      <td>3OAR100, DHQS, 3OAR160, TDPDRR, 3OAR120, SSALx...</td>\n",
       "    </tr>\n",
       "    <tr>\n",
       "      <th>Tetrahydrofolate</th>\n",
       "      <td>MTHTHFSs, METS, THFAT, FTHFD, ULA4NFT, FOMETRi...</td>\n",
       "    </tr>\n",
       "    <tr>\n",
       "      <th>Coenzyme A</th>\n",
       "      <td>FACOAL80t2pp, MCITS, CRNDCAL2, FACOAE160, ACAC...</td>\n",
       "    </tr>\n",
       "  </tbody>\n",
       "</table>\n",
       "</div>"
      ],
      "text/plain": [
       "                                                                           0\n",
       "Thiamine \\n diphosphate    POR51, SEPHCHCS, GLXCL, DXPS, TKT2, ACHBS, AKG...\n",
       "Biotin                                                                ACCOAC\n",
       "Pyridoxal \\n 5'-phosphate  LEUTAi, S_transfer_to_IscU_mod_1:2Fe1S, ICYSDS...\n",
       "Cobalamin                                                  MMM, METS, ETHAAL\n",
       "Riboflavin                 ACOAD4f, ARBTNR1, G3PD5, FRD2, FLDR22, G3PD6, ...\n",
       "NAD                        3OAR100, DHQS, 3OAR160, TDPDRR, 3OAR120, SSALx...\n",
       "Tetrahydrofolate           MTHTHFSs, METS, THFAT, FTHFD, ULA4NFT, FOMETRi...\n",
       "Coenzyme A                 FACOAL80t2pp, MCITS, CRNDCAL2, FACOAE160, ACAC..."
      ]
     },
     "execution_count": 4,
     "metadata": {},
     "output_type": "execute_result"
    }
   ],
   "source": [
    "pd.DataFrame.from_dict(vit_to_rs, orient='index').rename(lambda x: x.split(',')[0]).rename(load_model.met_to_name)"
   ]
  },
  {
   "cell_type": "code",
   "execution_count": 7,
   "metadata": {},
   "outputs": [],
   "source": [
    "df = pd.read_csv('vitamin_to_blocked_reactions.csv', index_col=0)"
   ]
  },
  {
   "cell_type": "code",
   "execution_count": 11,
   "metadata": {},
   "outputs": [
    {
     "name": "stdout",
     "output_type": "stream",
     "text": [
      "thmpp\n",
      "btn\n",
      "pydx5p\n",
      "S_transfer_to_SufBCD_mod_2:fe2\n",
      "S_transfer_to_SufBCD_mod_1:2Fe1S\n",
      "S_transfer_to_SufBCD_mod_1:2Fe2S_mod_2:fe2\n",
      "S_transfer_to_IscU_mod_1:2Fe2S_mod_1:2Fe1S\n",
      "S_transfer_to_IscU_mod_1:2Fe2S_mod_2:fe2\n",
      "S_transfer_to_SufBCD_mod_1:2Fe2S_mod_1:2Fe1S\n",
      "S_transfer_to_IscU_mod_2:fe2\n",
      "S_transfer_to_IscU_mod_1:2Fe1S\n",
      "cbl1, adocbl\n",
      "ribflv, fad, fmn, rbflvrd, fadh2, fmnh2\n",
      "L__LACD3\n",
      "CU2R\n",
      "L__LACD2\n",
      "nad, nadp, nadh, nadph\n",
      "thf, 10fthf, 5fthf, 5mthf, methf, mlthf, mththf\n",
      "coa\n"
     ]
    }
   ],
   "source": [
    "from optaux.helper_functions.characterize_auxotrophs import get_blocked_biomass\n",
    "vit_to_blocked_mets = pd.DataFrame()\n",
    "for i in df.index:\n",
    "    print(i)\n",
    "    model = ijo.copy()\n",
    "    for r in df.loc[i, '0'].split(', '):\n",
    "        if r in model.reactions:\n",
    "            model.reactions.get_by_id(r).knock_out()\n",
    "        elif r[:-1] in model.reactions:\n",
    "            model.reactions.get_by_id(r[:-1]).knock_out()\n",
    "        elif r == 'BTS6':\n",
    "            model.reactions.get_by_id('BTS5').knock_out()\n",
    "        else:\n",
    "            print(r)\n",
    "    vit_to_blocked_mets.loc[i, 'Metabolites'] = ', '.join(get_blocked_biomass(model, []))"
   ]
  },
  {
   "cell_type": "code",
   "execution_count": 18,
   "metadata": {},
   "outputs": [],
   "source": [
    "vit_to_blocked_mets.to_csv('/home/sbrg-cjlloyd/Dropbox//vit_to_blocked_mets.csv')"
   ]
  },
  {
   "cell_type": "code",
   "execution_count": 5,
   "metadata": {},
   "outputs": [],
   "source": [
    "df = pd.DataFrame.from_dict(load_model.currency_met_to_synthesis_rxn, orient='index')"
   ]
  },
  {
   "cell_type": "code",
   "execution_count": 17,
   "metadata": {},
   "outputs": [],
   "source": [
    "cofactor_to_rxn = df[df>''].dropna(axis=0).rename(load_model.met_to_name).rename(lambda x: x.replace('\\n', ''))\n",
    "\n",
    "for i in cofactor_to_rxn.index:\n",
    "    cofactor_to_rxn.loc[i, 'Reaction Name'] = ijo.reactions.get_by_id(cofactor_to_rxn.loc[i, 0]).name\n",
    "cofactor_to_rxn.rename({0: 'Reaction ID'}, axis=1).to_csv('/home/sbrg-cjlloyd/Dropbox/cofactor_to_rxn.csv')"
   ]
  },
  {
   "cell_type": "code",
   "execution_count": 24,
   "metadata": {},
   "outputs": [],
   "source": [
    "color_dict = {'Nitrogen': 'green', 'Carbon': 'black', 'Phosphorus':'red', 'Sulfur':'yellow',\n",
    "              'Anaerobic Nitrogen': '#90ee90', 'Anaerobic Carbon': '#D3D3D3',\n",
    "              'Anaerobic Phosphorus': '#ff6961', 'Anaerobic Sulfur': '#ffffe0'}"
   ]
  },
  {
   "cell_type": "code",
   "execution_count": 33,
   "metadata": {},
   "outputs": [],
   "source": [
    "color_df = pd.DataFrame.from_dict(color_dict, orient='index').style.applymap(lambda x: 'background-color: %s' % x)"
   ]
  },
  {
   "cell_type": "code",
   "execution_count": 37,
   "metadata": {},
   "outputs": [],
   "source": [
    "color_df.to_excel('/home/sbrg-cjlloyd/Dropbox//color_df.xlsx')"
   ]
  },
  {
   "cell_type": "code",
   "execution_count": null,
   "metadata": {},
   "outputs": [],
   "source": []
  }
 ],
 "metadata": {
  "kernelspec": {
   "display_name": "python3.6",
   "language": "python",
   "name": "python3.6"
  },
  "language_info": {
   "codemirror_mode": {
    "name": "ipython",
    "version": 3
   },
   "file_extension": ".py",
   "mimetype": "text/x-python",
   "name": "python",
   "nbconvert_exporter": "python",
   "pygments_lexer": "ipython3",
   "version": "3.6.7"
  }
 },
 "nbformat": 4,
 "nbformat_minor": 2
}
