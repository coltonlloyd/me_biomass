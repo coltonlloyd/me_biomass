{
 "cells": [
  {
   "cell_type": "code",
   "execution_count": 2,
   "metadata": {},
   "outputs": [],
   "source": [
    "# Find substrates that could aleviate need for biotin\n",
    "import cobra\n",
    "import cobra.test\n",
    "import pickle\n",
    "import pandas as pd\n",
    "from cobra.flux_analysis import gapfilling\n"
   ]
  },
  {
   "cell_type": "code",
   "execution_count": 2,
   "metadata": {},
   "outputs": [],
   "source": [
    "df = pd.read_csv('vitamin_to_blocked_reactions.csv', index_col=0)"
   ]
  },
  {
   "cell_type": "code",
   "execution_count": 3,
   "metadata": {},
   "outputs": [],
   "source": [
    "ijo = cobra.io.load_json_model('/home/sbrg-cjlloyd/Desktop/ecoli_M_models/iJO1366.json')"
   ]
  },
  {
   "cell_type": "code",
   "execution_count": 4,
   "metadata": {},
   "outputs": [],
   "source": [
    "ijo.solver = 'gurobi'"
   ]
  },
  {
   "cell_type": "code",
   "execution_count": 5,
   "metadata": {},
   "outputs": [],
   "source": [
    "uni = cobra.Model()\n",
    "for m in ijo.metabolites.query('_c'):\n",
    "    new_r = cobra.Reaction('source_' + m.id)\n",
    "    uni.add_reaction(new_r)\n",
    "    new_r.add_metabolites({m: 1})"
   ]
  },
  {
   "cell_type": "code",
   "execution_count": null,
   "metadata": {},
   "outputs": [
    {
     "name": "stdout",
     "output_type": "stream",
     "text": [
      "thmpp\n",
      "btn\n",
      "---- Run 1 ----\n",
      "source_kdolipid4_c\n",
      "---- Run 2 ----\n",
      "source_kdo2lipid4_c\n",
      "---- Run 3 ----\n",
      "source_lipidAds_c\n",
      "---- Run 4 ----\n",
      "source_lipidA_c\n",
      "---- Run 5 ----\n",
      "source_u23ga_c\n",
      "S_transfer_to_SufBCD_mod_2:fe2\n",
      "S_transfer_to_SufBCD_mod_1:2Fe1S\n",
      "S_transfer_to_SufBCD_mod_1:2Fe2S_mod_2:fe2\n",
      "S_transfer_to_IscU_mod_1:2Fe2S_mod_1:2Fe1S\n",
      "S_transfer_to_IscU_mod_1:2Fe2S_mod_2:fe2\n",
      "S_transfer_to_SufBCD_mod_1:2Fe2S_mod_1:2Fe1S\n",
      "S_transfer_to_IscU_mod_2:fe2\n",
      "S_transfer_to_IscU_mod_1:2Fe1S\n",
      "pydx5p\n",
      "cbl1, adocbl\n",
      "L__LACD3\n",
      "CU2R\n",
      "L__LACD2\n",
      "ribflv, fad, fmn, rbflvrd, fadh2, fmnh2\n",
      "nad, nadp, nadh, nadph\n",
      "thf, 10fthf, 5fthf, 5mthf, methf, mlthf, mththf\n"
     ]
    }
   ],
   "source": [
    "result_dict = {}\n",
    "for i in df.index:\n",
    "    model = ijo.copy()\n",
    "    for met in i.split(', '):\n",
    "        if '_c' not in met:\n",
    "            met += '_c'\n",
    "        met_obj = model.metabolites.get_by_id(met)\n",
    "        biomass = model.reactions.BIOMASS_Ec_iJO1366_core_53p95M\n",
    "        if met_obj in biomass.metabolites:\n",
    "            biomass.add_metabolites({met_obj:0}, combine=False)\n",
    "    \n",
    "    for r in df.loc[i, '0'].split(', '):\n",
    "        if r in model.reactions:\n",
    "            model.reactions.get_by_id(r).knock_out()\n",
    "        elif r[:-1] in model.reactions:\n",
    "            model.reactions.get_by_id(r[:-1]).knock_out()\n",
    "        elif r == 'BTS6':\n",
    "            model.reactions.get_by_id('BTS5').knock_out()\n",
    "        else:\n",
    "            print(r)\n",
    "    print(i)\n",
    "    model.solver.problem.setParam('IntFeasTol', 1e-9)\n",
    "    model.solver.problem.setParam('FeasibilityTol', 1e-9)\n",
    "    gfill = gapfilling.GapFiller(model, uni, lower_bound=.01, exchange_reactions=True, \n",
    "                     demand_reactions=True, integer_threshold=1e-9)\n",
    "    try:\n",
    "        result = gfill.fill(iterations=5)   \n",
    "    except:\n",
    "        continue\n",
    "\n",
    "    result_dict[i] = result\n",
    "    for i, entries in enumerate(result):\n",
    "        print(\"---- Run %d ----\" % (i + 1))\n",
    "        for e in entries:\n",
    "            print(e.id)"
   ]
  },
  {
   "cell_type": "code",
   "execution_count": null,
   "metadata": {},
   "outputs": [],
   "source": [
    "v."
   ]
  }
 ],
 "metadata": {
  "kernelspec": {
   "display_name": "fba4d2",
   "language": "python",
   "name": "fba4d2"
  },
  "language_info": {
   "codemirror_mode": {
    "name": "ipython",
    "version": 3
   },
   "file_extension": ".py",
   "mimetype": "text/x-python",
   "name": "python",
   "nbconvert_exporter": "python",
   "pygments_lexer": "ipython3",
   "version": "3.6.7"
  }
 },
 "nbformat": 4,
 "nbformat_minor": 2
}
