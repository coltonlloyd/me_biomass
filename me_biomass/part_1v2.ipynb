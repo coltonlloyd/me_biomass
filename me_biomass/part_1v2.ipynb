{
 "cells": [
  {
   "cell_type": "code",
   "execution_count": null,
   "metadata": {
    "collapsed": false,
    "deletable": true,
    "editable": true,
    "scrolled": true
   },
   "outputs": [],
   "source": [
    "import cobrame\n",
    "import cobra\n",
    "import pickle\n",
    "import math\n",
    "import json\n",
    "from glob import glob\n",
    "from tqdm import tqdm\n",
    "from os.path import exists\n",
    "import seaborn as sns\n",
    "from matplotlib import pyplot as plt\n",
    "import palettable\n",
    "import numpy as np\n",
    "from collections import OrderedDict\n",
    "from scipy.stats import ttest_ind, ks_2samp, ranksums, mannwhitneyu, spearmanr, pearsonr\n",
    "from sklearn import preprocessing\n",
    "from sklearn.decomposition import PCA\n",
    "from sklearn.cluster import AgglomerativeClustering\n",
    "\n",
    "from me_biomass.general_info import met_to_name, aas_to_name\n",
    "from me_biomass.me_solve_functions import solve_me_model\n",
    "from me_biomass.load_model import load_me_model\n",
    "from me_biomass.characterize_solution import *\n",
    "from me_biomass.load_model import currency_met_to_synthesis_rxn\n",
    "from me_biomass.update_mpl_rcparams import update_rcparams\n",
    "\n",
    "from cobrame.util.dogma import amino_acids\n",
    "\n",
    "%matplotlib inline\n",
    "\n",
    "def to_drop(x):\n",
    "    if x.startswith('charging') or x.startswith('formation') or x.startswith('translation'):\n",
    "        return True\n",
    "    elif x.startswith('transcription') or x.startswith('DM_'):\n",
    "        return True\n",
    "    else:\n",
    "        return False"
   ]
  },
  {
   "cell_type": "code",
   "execution_count": null,
   "metadata": {
    "collapsed": true
   },
   "outputs": [],
   "source": [
    "out_loc = './output/'"
   ]
  },
  {
   "cell_type": "markdown",
   "metadata": {
    "deletable": true,
    "editable": true
   },
   "source": [
    "# Part 1\n",
    "Run the following to reproduce figures in\n",
    "- Section 1: Benchmarking ME-model predictions of biomass composition\n",
    "- Section 2: Growth condition-dependent biomass composition"
   ]
  },
  {
   "cell_type": "code",
   "execution_count": null,
   "metadata": {
    "collapsed": true,
    "deletable": true,
    "editable": true
   },
   "outputs": [],
   "source": [
    "source_to_name = {'C': 'Carbon', 'P': 'Phosphorus', 'S': 'Sulfur', 'N': 'Nitrogen'}\n",
    "# filter metal ions and metabolites whose primary role is not as a prosthetic group\n",
    "prosthetic_group_mets_to_filter = [\n",
    "    'lys__L_c','nad_c', 'nadp_c', 'ca2_c', 'cl_c', 'cobalt2_c', 'cu2_c', 'fe2_c',\n",
    "    'fe3_c', 'k_c', 'mg2_c', 'nadh_c', 'nadph_c', 'ni2_c', 'zn2_c', 'mn2_c', 'fad_c', 'nh4_c']\n",
    "aas = [i[:-2] for i in amino_acids.values()]"
   ]
  },
  {
   "cell_type": "code",
   "execution_count": null,
   "metadata": {
    "collapsed": false,
    "deletable": true,
    "editable": true,
    "scrolled": true
   },
   "outputs": [],
   "source": [
    "me = load_me_model(json=False)"
   ]
  },
  {
   "cell_type": "markdown",
   "metadata": {
    "deletable": true,
    "editable": true
   },
   "source": [
    "# (1) Benchmarking ME-model predictions of biomass composition"
   ]
  },
  {
   "cell_type": "code",
   "execution_count": null,
   "metadata": {
    "collapsed": true,
    "deletable": true,
    "editable": true
   },
   "outputs": [],
   "source": [
    "# run aerobic and anaerobic ME-model simulations\n",
    "if not exists('./simulations/aerobic.json'):\n",
    "    me.reactions.EX_o2_e.lower_bound = -1000\n",
    "    solve_me_model(me, 2.5, using_soplex=False)\n",
    "    sol1 = me.solution\n",
    "    me.reactions.EX_o2_e.lower_bound = 0\n",
    "    solve_me_model(me, 2.5, using_soplex=False)\n",
    "    sol2 = me.solution\n",
    "    with open('./simulations/aerobic.json', 'w') as f:\n",
    "        json.dump(sol1.x_dict, f)\n",
    "    with open('./simulations/anaerobic.json', 'w') as f:\n",
    "        json.dump(sol2.x_dict, f)\n",
    "else:\n",
    "    with open('./simulations/aerobic.json', 'r') as f:\n",
    "        x_dict = json.load(f)\n",
    "    sol1 = cobra.core.Solution(1, x_dict=x_dict, status='optimal')\n",
    "    with open('./simulations/anaerobic.json', 'r') as f:\n",
    "        x_dict = json.load(f)\n",
    "    sol2 = cobra.core.Solution(1, x_dict=x_dict, status='optimal')"
   ]
  },
  {
   "cell_type": "code",
   "execution_count": null,
   "metadata": {
    "collapsed": false,
    "deletable": true,
    "editable": true,
    "scrolled": false
   },
   "outputs": [],
   "source": [
    "# plot comparision of ME-model simulations to iJO1366 biomass function\n",
    "fig, axes = plt.subplots(3, 1, figsize=(10, 11))\n",
    "update_rcparams()\n",
    "met_list = []\n",
    "for i, kind in enumerate(['amino_acid', 'cofactors', 'coenzymes']):\n",
    "    if kind in ['amino_acid', 'cofactors']:\n",
    "        comp1 = compare_to_ijo_biomass(me, solution=sol1, kind=kind)\n",
    "        comp2 = compare_to_ijo_biomass(me, solution=sol2, kind=kind)\n",
    "        if kind == 'cofactors':\n",
    "            for met in prosthetic_group_mets_to_filter: \n",
    "                comp1.drop([met], inplace=True, errors='ignore')\n",
    "                comp2.drop([met], inplace=True, errors='ignore')\n",
    "    else:\n",
    "        comp1 = compare_cofactor_to_ijo_biomass(me, currency_met_to_synthesis_rxn=currency_met_to_synthesis_rxn,\n",
    "                                                solution=sol1)\n",
    "        comp2 = compare_cofactor_to_ijo_biomass(me, currency_met_to_synthesis_rxn=currency_met_to_synthesis_rxn, \n",
    "                                                solution=sol2)\n",
    "        \n",
    "    logy = True\n",
    "    joined = comp1.join(comp2, rsuffix='_ana')\n",
    "    joined = joined.drop('gthox', errors='ignore')\n",
    "\n",
    "    joined.rename(lambda x: x.replace(\"_c\", ''), inplace=True)\n",
    "    joined.drop('Measured_ana', axis=1, inplace=True)\n",
    "\n",
    "    joined.columns = ['ME-Aerobic', 'iJO1366 BOF', 'ME-Anaerboic']\n",
    "    \n",
    "    ax = axes[i]\n",
    "    \n",
    "    legend=False\n",
    "    if kind == 'amino_acid':\n",
    "        title = 'Amino Acids'\n",
    "        legend = True\n",
    "    elif kind == 'cofactors':\n",
    "        title = 'Prosthetic Groups'\n",
    "    elif kind == 'coenzymes':\n",
    "        title = 'Coenzymes'\n",
    "    joined.rename(met_to_name, inplace=True)\n",
    "    plt.rcParams['legend.facecolor'] = 'w'\n",
    "    joined[['ME-Aerobic', 'ME-Anaerboic', 'iJO1366 BOF']].plot(kind='bar', logy=logy, ax=ax,\n",
    "                                                               color=['#0099E6', '#F23814', '#000000'],\n",
    "                                                               legend=legend)\n",
    "    \n",
    "    ax.set_xticklabels(joined.index, fontdict={'horizontalalignment': 'right', 'rotation':45})\n",
    "    ax.set_title(title)\n",
    "    ax.set_facecolor('w')\n",
    "    met_list.extend([i for i in joined.index])\n",
    "axes[0].set_ylim([.01, 10])\n",
    "axes[1].set_ylabel(r'Growth Normalized Synthesis ($\\mathrm{\\frac{mmol}{gDW}}$)', size=20)\n",
    "ax.figure.tight_layout()\n",
    "ax.figure.subplots_adjust(hspace=1)\n",
    "ax.figure.savefig('%s/figure_2.png' % out_loc)\n",
    "ax.figure.savefig('%s/Fig2.svg' % out_loc)"
   ]
  },
  {
   "cell_type": "markdown",
   "metadata": {
    "deletable": true,
    "editable": true
   },
   "source": [
    "# (2) Growth condition-dependent biomass composition"
   ]
  },
  {
   "cell_type": "code",
   "execution_count": null,
   "metadata": {
    "collapsed": true,
    "deletable": true,
    "editable": true
   },
   "outputs": [],
   "source": [
    "def rename_columns(df):\n",
    "    full = False\n",
    "    col_names = []\n",
    "    for i in df.columns:\n",
    "        if 'iron' in i:\n",
    "            col_names.append('iron')\n",
    "            continue\n",
    "        try:\n",
    "            met = me.metabolites.get_by_id(i + '_c')\n",
    "        except:\n",
    "            met = me.metabolites.get_by_id(i)\n",
    "        if not met.name:\n",
    "            met.name = met.id.replace(\"_c\", '')\n",
    "        elif met.id == 'nadp_c':\n",
    "            met.name = 'nadp'\n",
    "        elif met.id == 'nad_c':\n",
    "            met.name = 'nad'\n",
    "        elif met.id == 'fad_c':\n",
    "            met.name = 'fad'\n",
    "        if not full:\n",
    "            met.name = met.id.replace(\"_c\", \"\")\n",
    "        col_names.append(met.name)\n",
    "\n",
    "    df.columns = col_names\n",
    "    return df\n",
    "\n",
    "\n",
    "def get_cofactor_demand(df, growth_norm):\n",
    "    \n",
    "    out_dict = {}\n",
    "    for c in tqdm(df.columns):\n",
    "        x_dict = df[c].to_dict()\n",
    "        sol = cobra.core.Solution(1, x_dict=x_dict, status='optimal')\n",
    "        out_dict[c] = {}\n",
    "        \n",
    "        # get coenzyme, prosthetic group, and amino acid demands\n",
    "        prosthetic = compare_to_ijo_biomass(me, solution=sol, kind='cofactors', \n",
    "                                           growth_norm=growth_norm)\n",
    "        coenzymes = compare_cofactor_to_ijo_biomass(\n",
    "            me, currency_met_to_synthesis_rxn=currency_met_to_synthesis_rxn, \n",
    "            solution=sol, growth_norm=growth_norm)\n",
    "        \n",
    "        aas = compare_to_ijo_biomass(me, solution=sol, kind='amino_acid', growth_norm=growth_norm)\n",
    "        \n",
    "        # update output with biomass component demands\n",
    "        out_dict[c].update(aas.drop('Measured', axis=1).to_dict().popitem()[1])\n",
    "        out_dict[c].update(coenzymes.drop('Measured', axis=1).drop(\n",
    "            prosthetic_group_mets_to_filter, errors='ignore').to_dict().popitem()[1])\n",
    "        out_dict[c].update(prosthetic.drop('Measured', axis=1).drop(\n",
    "            prosthetic_group_mets_to_filter, errors='ignore').to_dict().popitem()[1])\n",
    "    return pd.DataFrame(out_dict).T\n",
    "\n",
    "\n",
    "def get_color_for_conditions(cluster_df):\n",
    "    color_df = pd.DataFrame()\n",
    "    color_dict = {'N': 'g', 'C': 'k', 'P':'r', 'S':'y'}\n",
    "    ana_color_dict = {'N': '#90ee90', 'C': '#D3D3D3', 'P': '#ff6961', 'S': '#ffffe0'}\n",
    "    for i in cluster_df.index:\n",
    "        if 'anaerobic' in i:\n",
    "            color_df.loc[i, 'Nutrient Source'] = ana_color_dict[i.split('_')[0]]\n",
    "        else:\n",
    "            color_df.loc[i, 'Nutrient Source'] = color_dict[i.split('_')[0]]\n",
    "    return color_df\n",
    "\n",
    "\n",
    "def summarize_conditions(df, growth_norm=True, split=False):\n",
    "\n",
    "    condition_df = get_cofactor_demand(df, growth_norm)\n",
    "        \n",
    "    # these do not consider glutathione as a substrate since it is a cofactor\n",
    "    #condition_df.drop(['C_gthrd_e', 'S_gthrd_e', 'N_gthrd_e', \n",
    "    #                 'C_anaerobic_gthrd_e', 'S_anaerobic_gthrd_e', \n",
    "    #                 'N_anaerobic_gthrd_e'], inplace=True, errors='ignore')\n",
    "    \n",
    "\n",
    "    condition_df = rename_columns(condition_df)\n",
    "    return condition_df\n"
   ]
  },
  {
   "cell_type": "code",
   "execution_count": null,
   "metadata": {
    "collapsed": true,
    "deletable": true,
    "editable": true
   },
   "outputs": [],
   "source": [
    "full_dict = {}\n",
    "for fi in glob('./simulations/media_sims/*'):\n",
    "    with open(fi, 'r') as f:\n",
    "        x_dict = json.load(f)\n",
    "    fi = fi.split('/')[-1].replace('_sol.json', '')\n",
    "    if 'anaerobic' in fi:\n",
    "        name = fi.replace('anaerobic_', '').replace('_EX_', '_anaerobic_')\n",
    "    else:\n",
    "        name = fi.replace('aerobic_', '').replace('_EX_', '_')\n",
    "    full_dict[name] = x_dict\n",
    "    \n",
    "full_df = pd.DataFrame(full_dict)\n",
    "df = full_df.dropna(axis=1).copy()\n",
    "df.to_csv('%s/raw_solutions.csv' % out_loc)"
   ]
  },
  {
   "cell_type": "code",
   "execution_count": null,
   "metadata": {
    "collapsed": false,
    "deletable": true,
    "editable": true
   },
   "outputs": [],
   "source": [
    "full_df = full_df.fillna(0)\n",
    "reorg_df = pd.DataFrame()\n",
    "for i in full_df.columns:\n",
    "    if 'anaerobic' in i:\n",
    "        met = i.split('aerobic_')[-1][:-2]\n",
    "        source = source_to_name[i[0]] + ' anaerobic'\n",
    "    else:\n",
    "        met = '_'.join(i.split('_')[1:-1])\n",
    "        source = source_to_name[i[0]] + ' aerobic'\n",
    "    reorg_df.loc[source, met] = full_df.loc['biomass_dilution', i]\n",
    "    \n",
    "reorg_df.T.fillna('').to_excel('%s/S1_data.xlsx' % out_loc)"
   ]
  },
  {
   "cell_type": "code",
   "execution_count": null,
   "metadata": {
    "collapsed": false,
    "deletable": true,
    "editable": true,
    "scrolled": false
   },
   "outputs": [],
   "source": [
    "print('total number of conditions', reorg_df.clip(lower=1, upper=1).sum().sum())\n",
    "print('total number of aerobic conditions', reorg_df.loc[[i for i in reorg_df.index if 'anaerobic' not in i]].clip(lower=1, upper=1).sum().sum())\n",
    "growth_support_df = reorg_df.copy()\n",
    "growth_support_df[growth_support_df>0.01] =1\n",
    "print('total number of growth-supporting aerobic conditions', growth_support_df.loc[[i for i in reorg_df.index if 'anaerobic' not in i]].sum().sum())\n",
    "print('total number of growth-supporting conditions', growth_support_df.sum().sum())"
   ]
  },
  {
   "cell_type": "code",
   "execution_count": null,
   "metadata": {
    "collapsed": false,
    "deletable": true,
    "editable": true
   },
   "outputs": [],
   "source": [
    "# plot distribution of growth rates by nutrient conditions\n",
    "fig, axes = plt.subplots(3, 3, figsize=(15, 10), sharex=True)\n",
    "iter_axes = iter(axes.flatten())\n",
    "hist_df = reorg_df.copy()\n",
    "hist_df[hist_df == 0] = np.nan\n",
    "for index in hist_df.sort_index().index:\n",
    "    if 'Carbon' not in index and 'Nitrogen' not in index:\n",
    "        bins = 2\n",
    "    else:\n",
    "        bins = 10\n",
    "    ax = next(iter_axes)\n",
    "    _ = hist_df.loc[index].hist(ax=ax, bins=bins)\n",
    "    ax.set_title(index)\n",
    "axes.flatten()[-1].remove()\n",
    "fig.savefig('%s/growth_rates.png' % out_loc)"
   ]
  },
  {
   "cell_type": "code",
   "execution_count": null,
   "metadata": {
    "collapsed": false,
    "deletable": true,
    "editable": true
   },
   "outputs": [],
   "source": [
    "plt.scatter(df.loc['biomass_dilution'], df.loc['protein_biomass_to_biomass'])\n",
    "plt.ylabel('Protein Biomass')\n",
    "plt.xlabel('Growth Rate')"
   ]
  },
  {
   "cell_type": "code",
   "execution_count": null,
   "metadata": {
    "collapsed": false,
    "deletable": true,
    "editable": true,
    "scrolled": true
   },
   "outputs": [],
   "source": [
    "condition_df_file = '%s/condition_df_no_gr_norm.csv' % out_loc\n",
    "\n",
    "if not exists(condition_df_file):\n",
    "\n",
    "    condition_df = summarize_conditions(df, growth_norm=False)\n",
    "    condition_df.to_csv(condition_df_file)\n",
    "else:\n",
    "    condition_df = pd.read_csv(condition_df_file, index_col=0)\n",
    "color_df = get_color_for_conditions(condition_df)\n",
    "\n",
    "condition_df = condition_df.dropna(how='all')"
   ]
  },
  {
   "cell_type": "code",
   "execution_count": null,
   "metadata": {
    "collapsed": false,
    "deletable": true,
    "editable": true
   },
   "outputs": [],
   "source": [
    "no_growth = df.loc['biomass_dilution'][df.loc['biomass_dilution'] < .1].sort_values().index\n",
    "print('Dropping due to low growth', no_growth)\n",
    "condition_df = condition_df.drop(no_growth)\n",
    "df = df.drop(no_growth, axis=1)"
   ]
  },
  {
   "cell_type": "markdown",
   "metadata": {
    "deletable": true,
    "editable": true
   },
   "source": [
    "### (Figure 4) PCA showing how micronutrient use differentiates conditions"
   ]
  },
  {
   "cell_type": "code",
   "execution_count": null,
   "metadata": {
    "collapsed": false,
    "deletable": true,
    "editable": true
   },
   "outputs": [],
   "source": [
    "condition_df = condition_df.drop('gthox', axis=1)\n",
    "condition_df = (condition_df.T / df.loc['protein_biomass_to_biomass']).T.dropna()\n"
   ]
  },
  {
   "cell_type": "code",
   "execution_count": null,
   "metadata": {
    "collapsed": false,
    "deletable": true,
    "editable": true
   },
   "outputs": [],
   "source": [
    "\n",
    "# run PCA\n",
    "pca_df = condition_df.copy()\n",
    "expression_values = preprocessing.StandardScaler().fit_transform(pca_df)\n",
    "pca = PCA(n_components=3)\n",
    "a = pca.fit(expression_values)\n",
    "X_r = a.transform(expression_values)\n",
    "\n",
    "\n",
    "fig = plt.figure(figsize=(10, 10))\n",
    "gs = fig.add_gridspec(3, 3)\n",
    "ax = fig.add_subplot(gs[:-1, :-1])\n",
    "\n",
    "source_to_color = dict(zip(['C_anaerobic', 'C', 'S_anaerobic', 'S', 'P_anaerobic', 'P', 'N_anaerobic', 'N'], \n",
    "                          palettable.colorbrewer.qualitative.Paired_8.hex_colors))\n",
    "\n",
    "\n",
    "# plot and format points on PCA plot\n",
    "for z in range(len(X_r[:, 0])):\n",
    "    index = pca_df.index[z]\n",
    "    source = index.split('_')[0] if 'anaerobic' not in index else '_'.join(index.split('_')[:2]) \n",
    "    if 'anaerobic' in source:\n",
    "        edgecolor = source_to_color[source.split('_')[0]]\n",
    "        color = 'white'\n",
    "        label=None\n",
    "    else:\n",
    "        edgecolor = None\n",
    "        label=source_to_name[source]\n",
    "        color  = source_to_color[source.split('_')[0]]\n",
    "    ax.scatter(X_r[z, 0], X_r[z, 1], c=color, edgecolors=edgecolor, s=150, label=label, linewidths=1.5, alpha=.7)\n",
    "    \n",
    "    \n",
    "ax.set_xlabel('PC 1 (%.2f)' % a.explained_variance_ratio_[0])\n",
    "ax.set_ylabel('PC 2 (%.2f)' % a.explained_variance_ratio_[1])\n",
    "ax.set_facecolor('w')\n",
    "handles, labels = ax.get_legend_handles_labels()\n",
    "by_label = OrderedDict(zip(labels[:-1], handles[:-1]))\n",
    "ax.legend(by_label.values(), by_label.keys(), loc='upper left', facecolor='w', ncol=1, title='Nutrient Sources',\n",
    "         title_fontsize=13)\n",
    "\n",
    "# plot PCA weightings\n",
    "all_weights=pd.DataFrame()\n",
    "for component in [0, 1]:\n",
    "    if component == 0:\n",
    "        ax = fig.add_subplot(gs[-1, :-1])\n",
    "        bar_kind = 'bar'\n",
    "    else:\n",
    "        ax = fig.add_subplot(gs[:-1, -1])\n",
    "        bar_kind = 'barh'\n",
    "    ax.set_facecolor('w')\n",
    "    weight_dfs = pd.DataFrame(a.components_[component], index=pca_df.columns).T\n",
    "    all_weights = all_weights.join(weight_dfs.T, how='outer', rsuffix='new')\n",
    "    # from https://www.pnas.org/content/110/6/2135\n",
    "    # inspired by https://www.ncbi.nlm.nih.gov/pmc/articles/PMC4906156/\n",
    "    prebiotic_aas = ['ala__L', 'asp__L', 'glu__L', 'gly', 'ile__L', \n",
    "                     'leu__L', 'pro__L', 'ser__L', 'thr__L', 'val__L']\n",
    "    prebiotic_aas = []\n",
    "    peroyl_scavanging = ['his__L', 'cys__L', 'met__L', 'tyr__L', 'trp__L']\n",
    "    weight_dfs.sort_values(0, axis=1).loc[0].plot(kind=bar_kind, ax=ax)\n",
    "    for i, p in enumerate(ax.patches):\n",
    "        if weight_dfs.sort_values(0, axis=1).columns[i] in prebiotic_aas:\n",
    "            p.set_color('g')\n",
    "            p.set_label('Prebiotic AA')\n",
    "        elif weight_dfs.sort_values(0, axis=1).columns[i] in peroyl_scavanging:\n",
    "            p.set_color('r')\n",
    "            p.set_label('Peroxyl scavanging AA')\n",
    "        elif '__L' not in weight_dfs.sort_values(0, axis=1).columns[i]:\n",
    "            p.set_color('k')\n",
    "            p.set_label('Cofactor')\n",
    "        else:\n",
    "            p.set_label('Non-prebiotic AA')\n",
    "    ax.set_title('PC %i weighting' % (component+1))\n",
    "\n",
    "    if component == 0:\n",
    "        ax.set_xticklabels(['']* len(weight_dfs.sort_values(0, axis=1).columns))\n",
    "            # remove duplicate legend entries\n",
    "        handles, labels = ax.get_legend_handles_labels()\n",
    "        by_label = OrderedDict(zip(labels[:-1], handles[:-1]))\n",
    "        ax.legend(by_label.values(), by_label.keys(), ncol=1, facecolor='w')\n",
    "    else:\n",
    "        ax.set_yticklabels(['']* len(weight_dfs.sort_values(0, axis=1).columns))\n",
    "\n",
    "\n",
    "fig.tight_layout()\n",
    "fig.savefig('%s/figure_4.svg' % out_loc)\n",
    "all_weights.columns = ['PC 1', 'PC 2']\n",
    "\n",
    "all_weights.sort_values('PC 1', ascending=False).applymap(lambda x: '%.3f' % x).to_csv(\n",
    "    '%s/figure_4_pc_weightings.csv' % out_loc)"
   ]
  },
  {
   "cell_type": "code",
   "execution_count": null,
   "metadata": {
    "collapsed": false,
    "deletable": true,
    "editable": true
   },
   "outputs": [],
   "source": [
    "all_weights.sort_values('PC 1', ascending=True).head(5)"
   ]
  },
  {
   "cell_type": "code",
   "execution_count": null,
   "metadata": {
    "collapsed": false,
    "deletable": true,
    "editable": true,
    "scrolled": true
   },
   "outputs": [],
   "source": [
    "from scipy.stats import pearsonr\n",
    "print(spearmanr(X_r[:, 1], df.loc['biomass_dilution']))\n",
    "plt.scatter(df.loc['biomass_dilution'], X_r[:, 1])"
   ]
  },
  {
   "cell_type": "code",
   "execution_count": null,
   "metadata": {
    "collapsed": false,
    "deletable": true,
    "editable": true
   },
   "outputs": [],
   "source": [
    "temp = pd.DataFrame()\n",
    "for i in df[df!=0].dropna().index:\n",
    "    if to_drop(i):\n",
    "        continue\n",
    "    rho, p = spearmanr(X_r[:, 1], df.loc[i])\n",
    "    temp.loc[i, 'rho'] = rho\n",
    "    temp.loc[i, 'p'] = p"
   ]
  },
  {
   "cell_type": "code",
   "execution_count": null,
   "metadata": {
    "collapsed": false,
    "deletable": true,
    "editable": true,
    "scrolled": true
   },
   "outputs": [],
   "source": [
    "# plot histograms of specificy metabolites\n",
    "hist_df = condition_df.copy()\n",
    "to_plot = list(reversed(['gly', 'nad', 'his__L', 'btn']))\n",
    "fig, axes = plt.subplots(1, 4, figsize=(10, 1), sharey=True)\n",
    "for i, col in enumerate(to_plot):\n",
    "    if col not in to_plot:\n",
    "        continue\n",
    "    ax=axes[i]\n",
    "    ax.set_facecolor('w')\n",
    "    if col != 'nad':\n",
    "        ax.set_title(ijo.metabolites.get_by_id(col+'_c').name.replace('amide', 'amide \\n'))\n",
    "    else:\n",
    "        ax.set_title('NAD')\n",
    "    ana = [i for i in hist_df.index if 'anaerobic' in i]\n",
    "    aer = [i for i in hist_df.index if 'anaerobic' not in i]\n",
    "    ax.hist([hist_df.loc[aer, col], hist_df.loc[ana, col]], bins=20)\n",
    "    ax.set_xticklabels(['' for i in ax.get_xticks()], \n",
    "                  fontdict={'horizontalalignment': 'right', 'rotation':45})\n",
    "ax.legend(['aerobic', 'anaerobic'], bbox_to_anchor=(-1.25, -.5), loc='upper center', fontsize=15, ncol=2,\n",
    "         facecolor='w')\n",
    "\n",
    "fig.savefig('%s/hist_for_pca_figure_4.svg' % out_loc)"
   ]
  },
  {
   "cell_type": "markdown",
   "metadata": {
    "deletable": true,
    "editable": true
   },
   "source": [
    "## (Figure 3) Standard deviation analysis of nutrient sources"
   ]
  },
  {
   "cell_type": "code",
   "execution_count": null,
   "metadata": {
    "collapsed": false,
    "deletable": true,
    "editable": true,
    "scrolled": true
   },
   "outputs": [],
   "source": [
    "fig  = plt.figure(figsize=(18,7))\n",
    "gs = fig.add_gridspec(2, 5)\n",
    "ax = fig.add_subplot(gs[0,:-1])\n",
    "#condition_df = condition_df.drop(['C_ethso3_e', 'C_pro__L_e', 'C_for_e', 'N_pro__L_e', 'C_butso3_e'])\n",
    "plot_df = condition_df.copy()\n",
    "\n",
    "c2, c1 = palettable.wesanderson.Zissou_5.hex_colors[0:2]\n",
    "ax = plot_df.max().sort_values().plot(kind='bar', logy=True,\n",
    "                                      label='max-min', ax=ax, color=c1)\n",
    "\n",
    "ax = plot_df.min().sort_values().plot(kind='bar', logy=True, ax=ax,\n",
    "                                      color='w')\n",
    "ax.set_facecolor('w')\n",
    "ax.set_ylabel('Normalized biosynthesis \\n demand' + r' ($mmol \\cdot g_{protein}^{-1}$)', fontsize=18)\n",
    "ax.set_title('Range of biosynthesis demands', fontsize=18)\n",
    "ax.set_xticklabels(ax.get_xticklabels(), \n",
    "                  fontdict={'fontsize': 18})\n",
    "\n",
    "aer = [i for i in condition_df.index if 'anaerob' not in i]\n",
    "anaer = [i for i in condition_df.index if 'anaerob' in i]\n",
    "all_values ={}\n",
    "for kind, lis in zip(['aerobic', 'anaerobic'], [aer, anaer]):\n",
    "    q = condition_df.loc[aer]/ condition_df.loc[aer].T.max(axis=1)\n",
    "    sources = set([i.split('_')[0] for i in q.index])\n",
    "    \n",
    "    sorted_all = q.T.std(axis=1).sort_values().index\n",
    "\n",
    "    for s in sources:\n",
    "        source_rxns = [i for i in q.index if i.startswith(s)]\n",
    "        key = source_to_name[s] if kind == 'aerobic' else source_to_name[s]+' anearobic'\n",
    "        all_values[key] =dict(zip(sorted_all, list(q.loc[source_rxns, sorted_all].T.std(axis=1).values)))\n",
    "\n",
    "ax = fig.add_subplot(gs[1,:-1])\n",
    "all_val_df = pd.DataFrame(all_values)\n",
    "all_val_df['sum'] = all_val_df.sum(axis=1)\n",
    "all_val_df = all_val_df.sort_values('sum')\n",
    "all_val_df[sorted(all_val_df.columns)].drop(['sum'], axis=1).plot.bar(\n",
    "    stacked=True, colors=palettable.tableau.Tableau_20.hex_colors, ax=ax)\n",
    "ax.set_facecolor('w')\n",
    "ax.legend(facecolor='w', ncol=2, fontsize=13)#, title='Nutrient Sources', title_fontsize=12)\n",
    "ax.set_ylabel('Standard deviation', fontsize=18)\n",
    "ax.set_title('Standard deviation by nutrient source and aerobicity', fontsize=18)\n",
    "ax.set_xticklabels(ax.get_xticklabels(), \n",
    "                  fontdict={'fontsize': 18})\n",
    "\n",
    "fig.subplots_adjust(hspace=1)\n",
    "fig.text(.03, .95, 'A', size=35)\n",
    "fig.text(.03, .45, 'B', size=35)\n",
    "\n",
    "\n",
    "for i in plot_df.index:\n",
    "    plot_df.loc[i, 'aerobicity'] = 'anaerobic' if 'anaerobic' in i else 'aerobic'\n",
    "plot_df = plot_df.drop('atp', axis=1, errors='ignore')\n",
    "core_biomass = pd.DataFrame(plot_df.drop('aerobicity', axis=1).min())\n",
    "core_biomass = core_biomass[core_biomass>0].dropna().sort_values(0, ascending=False)\n",
    "core_biomass.index.name = 'Metabolite'\n",
    "core_biomass.columns = ['Demand']\n",
    "core_biomass = core_biomass.applymap(lambda x: '%.3f' % x if x>1e-3 else '{:.1e}'.format(float(x)))\n",
    "core_biomass = core_biomass.reset_index()\n",
    "core_out = pd.DataFrame(index=list(range(20)), columns=list(range(4)))\n",
    "core_out.iloc[:20, 0] = core_biomass.iloc[:20, 0]\n",
    "core_out.iloc[:20, 1] = core_biomass.iloc[:20, 1]\n",
    "core_out.iloc[:10, 2] = core_biomass.iloc[20:, 0].values\n",
    "core_out.iloc[:10, 3] = core_biomass.iloc[20:, 1].values\n",
    "core_out.columns = ['AA', 'Demand', 'Cofactor', 'Demand']\n",
    "\n",
    "skip_c = True\n",
    "if not skip_c:\n",
    "    ax = fig.add_subplot(gs[:, -1])\n",
    "    ax.axis('off')\n",
    "    ax.axis('tight')\n",
    "    t =ax.table(cellText=core_out.fillna('').values, colLabels=core_out.columns, loc='lower center')\n",
    "    t.auto_set_font_size(False)\n",
    "    t.set_fontsize(13)\n",
    "    t.scale(1.3,1.4)\n",
    "    fig.text(.72, .95, 'C', size=35)\n",
    "    fig.text(.835, .85, 'Core biomass function', size=20, ha='center')\n",
    "\n",
    "fig.savefig('%s/figure_3.png' % out_loc)\n",
    "fig.savefig('%s/Fig3.svg' % out_loc)"
   ]
  },
  {
   "cell_type": "markdown",
   "metadata": {
    "deletable": true,
    "editable": true
   },
   "source": [
    "## Cluster aerobic growth conditions (Figure 5)"
   ]
  },
  {
   "cell_type": "code",
   "execution_count": null,
   "metadata": {
    "collapsed": false,
    "deletable": true,
    "editable": true,
    "scrolled": false
   },
   "outputs": [],
   "source": [
    "p_cutoff = 1e-5\n",
    "small_cluster_cutoff= 3\n",
    "to_skip = ['bmocogdp', 'adocbl', '2dmmq8', 'mqn8', 'sheme']\n",
    "filt_df = condition_df.loc[[i for i in condition_df.index if 'anaerobic' not in i]]\n",
    "filt_df = filt_df[[i for i in filt_df if i != 'atp' and i not in to_skip]]\n",
    "filt_df = filt_df.astype(float) \n",
    "\n",
    "z_df = (filt_df - filt_df.mean()) / filt_df.std()\n",
    "outliers = pd.DataFrame()\n",
    "for i in z_df.columns:\n",
    "    if '__L' in i:\n",
    "        continue\n",
    "    up = z_df[i][z_df[i] > 3]\n",
    "    down = z_df[i][z_df[i] < -3]\n",
    "    #print(i, up, down)\n",
    "    for cond, val in up.items():\n",
    "        outliers.loc[i, cond] = val\n",
    "    for cond, val in down.items():\n",
    "        outliers.loc[i, cond] = val\n",
    "    "
   ]
  },
  {
   "cell_type": "code",
   "execution_count": null,
   "metadata": {
    "collapsed": false,
    "deletable": true,
    "editable": true,
    "scrolled": true
   },
   "outputs": [],
   "source": [
    "fc_df =filt_df.applymap(np.log2) - filt_df.applymap(np.log2).mean()\n",
    "fc_df = fc_df.T.loc[outliers.index, outliers.columns][~outliers.isna()]\n",
    "fc_df = fc_df.rename(lambda x: '(%s) ' % x[0] + x[2:], axis=1)\n",
    "\n",
    "z = sns.clustermap(fc_df.fillna(0), cmap='coolwarm', center=0, figsize=(20,5), method='ward')\n",
    "\n",
    "fig, ax = plt.subplots(figsize=(20, 4))\n",
    "g = sns.heatmap(z.data2d[z.data2d !=0], cmap='coolwarm', center=0, ax=ax, linecolor='k',\n",
    "               linewidths=.5)\n",
    "ax.set_facecolor('w')\n",
    "g.collections[0].colorbar.set_label('Log$_2$ fold change from average', rotation=270,\n",
    "                                    labelpad=20,fontsize=20)\n",
    "ax.set_title('Biomass biosynthetic demand outliers', fontsize=20)\n",
    "fig.savefig('%s/outliers.svg' % out_loc)"
   ]
  },
  {
   "cell_type": "code",
   "execution_count": null,
   "metadata": {
    "collapsed": false,
    "deletable": true,
    "editable": true
   },
   "outputs": [],
   "source": [
    "thf_outlier = outliers.loc['thf'].dropna().index"
   ]
  },
  {
   "cell_type": "code",
   "execution_count": null,
   "metadata": {
    "collapsed": false,
    "deletable": true,
    "editable": true
   },
   "outputs": [],
   "source": [
    "pydx5_outlier = outliers.loc['pydx5p'].dropna().index\n",
    "non_pydx5_outlier = [i for i in condition_df.index if i not in pydx5_outlier] \n",
    "for i in pydx5_outlier:\n",
    "    print(i, ijo.metabolites.get_by_id(i[2:]).name)\n",
    "print(condition_df.loc[pydx5_outlier, 'pydx5p'].mean() / condition_df.loc[\n",
    "    non_pydx5_outlier, 'pydx5p'].mean())"
   ]
  },
  {
   "cell_type": "code",
   "execution_count": null,
   "metadata": {
    "collapsed": false,
    "deletable": true,
    "editable": true
   },
   "outputs": [],
   "source": [
    "pydx_df = pd.DataFrame()\n",
    "\n",
    "for i in me.reactions.query('mod_pydx5p'):\n",
    "    r_name = i.id.split('_FWD')[0].split('_REV')[0]\n",
    "    if not isinstance(i, cobrame.MetabolicReaction):\n",
    "            continue\n",
    "    for j in pydx5_outlier:#condition_df.index:\n",
    "        \n",
    "        pydx_df.loc[r_name, j] = df.loc[i.id, j]\n",
    "pydx_df = pydx_df[pydx_df != 0].dropna(how='all')\n",
    "\n",
    "pydx_df['sum'] = pydx_df[pydx5_outlier].mean(axis=1, skipna=True)\n",
    "for i in pydx_df.index:\n",
    "    pydx_df.loc[i, 'name'] = ijo.reactions.get_by_id(i).name\n",
    "#(pydx_df[pydx5_outlier].mean(axis=1, skipna=True) / pydx_df[non_pydx5_outlier].mean(axis=1, skipna=True)).sort_values()#"
   ]
  },
  {
   "cell_type": "code",
   "execution_count": null,
   "metadata": {
    "collapsed": false,
    "deletable": true,
    "editable": true,
    "scrolled": true
   },
   "outputs": [],
   "source": [
    "\n",
    "\n",
    "norm_df = filt_df / filt_df.max()\n",
    "norm_df = norm_df.drop(outliers.columns)\n",
    "no_aas = False\n",
    "if no_aas:\n",
    "    clus_num=8\n",
    "    aas = [i[:-2] for i in amino_acids.values()]\n",
    "    norm_df = norm_df[[i for i in norm_df.columns if i not in aas]]\n",
    "    norm_df.to_csv(\"%s/normalized_condition_no_aas_df.csv\" % out_loc)\n",
    "else:\n",
    "    clus_num = 6\n",
    "    norm_df.to_csv(\"%s/normalized_condition_df.csv\" % out_loc)\n",
    "\n",
    "\n",
    "#z_df = pd.DataFrame(z_df, index=filt_df.index, columns=filt_df.columns)\n",
    "summary=pd.DataFrame()\n",
    "\n",
    "for n_clus in [clus_num]:\n",
    "    fit = AgglomerativeClustering(n_clusters=int(n_clus), linkage='ward',\n",
    "                                  affinity='euclidean').fit(norm_df)\n",
    "\n",
    "    out_df = pd.DataFrame([norm_df.index, fit.labels_], index=['met', 'cluster']).T\n",
    "\n",
    "    drop_indexes = []\n",
    "    p_df = pd.DataFrame()\n",
    "    new_df = pd.DataFrame()\n",
    "    sizes = []\n",
    "    for clust, temp_df in out_df.groupby('cluster'):\n",
    "        mets = [i for i in temp_df.met]\n",
    "        \n",
    "        non_clust_mets = [i for i in out_df.met if i not in mets]\n",
    "\n",
    "        sizes.append(len(mets))\n",
    "        new_df.loc[clust, 'mets'] = ', '.join(mets)\n",
    "        for cofactor in norm_df.columns:\n",
    "\n",
    "            clust_values = norm_df.loc[mets, cofactor].values\n",
    "            non_clust_values = norm_df.loc[non_clust_mets, cofactor].values\n",
    "            #p_df.loc[clust, cofactor] = ks_2samp(clust_values, non_clust_values)[1]\n",
    "            p_df.loc[clust, cofactor] = ranksums(clust_values, non_clust_values)[1]\n",
    "\n",
    "            #p_df.loc[clust, cofactor] = ttest_1samp(clust_values, norm_df.loc['C_glc__D_e', cofactor])[1]\n",
    "            new_df.loc[clust, cofactor] = np.log2(clust_values.mean() / non_clust_values.mean())# -1 #non_clust_values.mean()\n",
    "    \n",
    "    binary_p_df = p_df.copy()\n",
    "    binary_p_df[binary_p_df > p_cutoff] = 0\n",
    "    binary_p_df[(binary_p_df <= p_cutoff) & ( binary_p_df >0)] = 1\n",
    "    clust_cols = [i for i in new_df.columns if i!='mets']\n",
    "    binary_p_df[(new_df[clust_cols]>-.15) & (new_df[clust_cols] <.15)] = 0\n",
    "            \n",
    "    summary.loc[n_clus, 'num_sig'] = binary_p_df.sum(axis=1).sum()\n",
    "    summary.loc[n_clus, 'num_clus'] = len(p_df.index)\n",
    "    summary.loc[n_clus, 'avg_num_sig'] = binary_p_df.sum(axis=1).mean()\n",
    "    summary.loc[n_clus, 'avg_size'] = np.array(sizes).mean()\n",
    "    summary.loc[n_clus, 'num_sig_clus'] = (binary_p_df.sum(axis=1) > 0).sum()\n",
    "    \n",
    "clus_to_skip = []\n",
    "for i in new_df.index:\n",
    "    if len(new_df.loc[i, 'mets'].split(', ')) <= small_cluster_cutoff:\n",
    "        clus_to_skip.append(i)\n",
    "        \n",
    "print(len(new_df.index))\n",
    "summary\n",
    "\n",
    "\n"
   ]
  },
  {
   "cell_type": "code",
   "execution_count": null,
   "metadata": {
    "collapsed": false,
    "deletable": true,
    "editable": true
   },
   "outputs": [],
   "source": [
    "# cluster 2 vs 5 differences\n",
    "t_df = (df / df.loc['protein_biomass_to_biomass'])\n",
    "q = (t_df[new_df.loc[1, 'mets'].split(', ')].mean(axis=1).map(np.log2) - \n",
    "     t_df[new_df.loc[4, 'mets'].split(', ')].mean(axis=1).map(np.log2)).dropna().sort_values()\n",
    "\n",
    "q = q[q.abs() != np.inf]\n",
    "q.loc[[i for i in q.index if not to_drop(i)]].sort_values(ascending=False).head(10)"
   ]
  },
  {
   "cell_type": "code",
   "execution_count": null,
   "metadata": {
    "collapsed": false,
    "deletable": true,
    "editable": true
   },
   "outputs": [],
   "source": [
    "biomass_compositions = pd.DataFrame()\n",
    "for cluster_num in new_df.index:\n",
    "    mets = new_df.loc[cluster_num, 'mets'].split(', ')\n",
    "    column_name = 'Cluster ' + str(cluster_num + 1)\n",
    "    biomass_compositions[column_name] = condition_df.drop(to_skip,axis=1).loc[mets].mean()\n",
    "    biomass_compositions.loc['Conditions in cluster', column_name] =  new_df.loc[cluster_num, 'mets']\n",
    "    \n",
    "biomass_compositions.T.to_excel('%s/S2_data.xlsx' % out_loc)"
   ]
  },
  {
   "cell_type": "code",
   "execution_count": null,
   "metadata": {
    "collapsed": false,
    "deletable": true,
    "editable": true,
    "scrolled": false
   },
   "outputs": [],
   "source": [
    "\n",
    "for i in new_df.index:\n",
    "    changes = binary_p_df.loc[i][binary_p_df.loc[i] > 0].index\n",
    "    add_str = ''\n",
    "    for change in changes:\n",
    "        add_str += ', %s (%.2f)' % (change, new_df.loc[i, change])\n",
    "    new_df.loc[i, 'changes'] = add_str.strip(', ')\n",
    "save_df = new_df[['mets', 'changes']]\n",
    "save_df.index.name = 'Cluster'\n",
    "save_df.index = save_df.index.map(lambda x: x+1)\n",
    "save_df['n_mets'] = save_df.mets.map(lambda x: len(x.split(', ')))\n",
    "def convert_for_table(x):\n",
    "    out = ''\n",
    "    for i in x.split(', '):\n",
    "        out += '(%s) %s, ' % (i[0], ijo.metabolites.get_by_id(i[2:]).name)\n",
    "    return out\n",
    "save_df.mets = save_df.mets.map(convert_for_table)\n",
    "save_df.to_csv('%s/cluster_df.csv' % out_loc)\n"
   ]
  },
  {
   "cell_type": "code",
   "execution_count": null,
   "metadata": {
    "collapsed": false,
    "deletable": true,
    "editable": true
   },
   "outputs": [],
   "source": [
    "save_df"
   ]
  },
  {
   "cell_type": "code",
   "execution_count": null,
   "metadata": {
    "collapsed": false,
    "deletable": true,
    "editable": true
   },
   "outputs": [],
   "source": [
    "\n",
    "n_big_clus = len(new_df.index) - len(clus_to_skip)\n",
    "fig, axes = plt.subplots( 1,n_big_clus, figsize=(10, 4), sharey=True)\n",
    "axes = axes.flatten()\n",
    "count=0\n",
    "all_changed = []\n",
    "for q in new_df.index:\n",
    "    all_changed.extend([i.split(' (')[0] for i in new_df.loc[q, 'changes'].split(', ')] )\n",
    "all_changed = [i for i in all_changed if i != '']\n",
    "plot_df = pd.DataFrame(index=set(all_changed))\n",
    "\n",
    "for i in new_df.index:\n",
    "    if i in clus_to_skip:\n",
    "        continue\n",
    "        \n",
    "    cluster = i\n",
    "    clusts = new_df.loc[cluster, 'mets'].split(', ')\n",
    "    changed = [i.split(' (')[0] for i in new_df.loc[cluster, 'changes'].split(', ')]\n",
    " \n",
    "    log_df = norm_df.copy()\n",
    "    plot_df.iloc[:, :] = 0\n",
    "    if changed ==['']:\n",
    "        print(clusts)\n",
    "        count+=1\n",
    "        continue\n",
    "    \n",
    "    nonclus_mets = [i for i in log_df.index if i not in clusts]\n",
    "    plot_df['mean_clus'] = np.log2(log_df.loc[clusts, changed].mean()) - np.log2(log_df.loc[non_clust_mets, changed].mean())\n",
    "    \n",
    "    temp_values = log_df.loc[clusts, changed] / log_df.loc[nonclus_mets, changed].mean() #-1\n",
    "    plot_df['mean_clus'] = temp_values.applymap(np.log2).mean()\n",
    "    plot_df['std_clus'] = temp_values.applymap(np.log2).std()\n",
    "    plot_df['mean_nonclus'] = log_df.loc[nonclus_mets, changed].mean()#log_df.loc['C_glc__D_e', changed]\n",
    "    plot_df['std_nonclus'] = log_df.loc[nonclus_mets, changed].std()\n",
    "    #plot_df.plot(kind='barh', y=['mean_clus', 'mean_nonclus'], \n",
    "    #             xerr=[plot_df['std_clus'], plot_df['std_nonclus']], ax=axes[count])\n",
    "    plot_df.plot(kind='barh', y=['mean_clus'], xerr=plot_df['std_clus'], ax=axes[count])\n",
    "    axes[count].yaxis.set_tick_params(labelsize=12)    \n",
    "    axes[count].legend_ = None\n",
    "    axes[count].set_title('Cluster %i' % (cluster+1), fontsize=14)\n",
    "    axes[count].plot([0,0], [-1, len(all_changed)], 'k--')\n",
    "    #axes[count].set_xlim([0, 1])\n",
    "    count+=1\n",
    "\n",
    "#axes[count-1].legend(['In Cluster', 'Not In Cluster'], fontsize=10, ncol=1, bbox_to_anchor=(1,.5), loc='center left',\n",
    "#                    title='Growth Conditions')\n",
    "#axes[count-1].s\n",
    "fig.tight_layout()\n",
    "fig.text(.43, -.05, 'Log$_2$ fold change from average', ha='center', fontsize=15)\n",
    "fig.savefig('%s/cluster_bar_graph.svg' % out_loc)"
   ]
  },
  {
   "cell_type": "code",
   "execution_count": null,
   "metadata": {
    "collapsed": false,
    "deletable": true,
    "editable": true
   },
   "outputs": [],
   "source": [
    "binary_columns = condition_df[condition_df==0].dropna(axis=1, how='all').columns\n",
    "binary_heat_df = condition_df[binary_columns].copy()\n",
    "binary_heat_df[binary_heat_df>0] = 1\n",
    "binary_heat_df.columns = [met_to_name[i.replace('_c', '')]\n",
    "                          for i in binary_heat_df.columns]\n",
    "g = sns.clustermap(binary_heat_df, row_colors=color_df, yticklabels=False,\n",
    "                  cmap=palettable.cartocolors.diverging.Geyser_3.get_mpl_colormap(),\n",
    "                  method='ward')\n",
    "\n",
    "\n",
    "g.ax_col_dendrogram.set_visible(False)\n",
    "g.ax_row_dendrogram.set_visible(False)\n",
    "g.cax.clear()\n",
    "g.cax.axis('off')\n",
    "g.cax.text(18, -1, 'Cofactor required', fontdict={'fontsize': 18})\n",
    "g.cax.text(7, -1, 'Cofactor not required', fontdict={'fontsize': 18})\n",
    "q = plt.setp(g.ax_heatmap.get_xticklabels(), rotation=45, ha='right')\n",
    "q = plt.setp(g.ax_row_colors.get_xticklabels(), rotation=45, ha='right')\n",
    "plt.savefig('%s/conditionally_essential_cofactors.png' % out_loc)"
   ]
  },
  {
   "cell_type": "code",
   "execution_count": null,
   "metadata": {
    "collapsed": false,
    "deletable": true,
    "editable": true,
    "scrolled": true
   },
   "outputs": [],
   "source": [
    "fig, axes = plt.subplots(2, 1, figsize=(10, 8))\n",
    "binary_p_df.sum().sort_values().plot(kind='bar', ax=axes[0])\n",
    "axes[0].set_title('Number of clusters with signficant differences in metabolite')\n",
    "\n",
    "\n",
    "binary_p_df.rename(lambda x: 'Cluster ' + str(x+1)).T.sum().sort_values().plot(kind='bar', ax=axes[1])\n",
    "axes[1].set_title('Number of significant metabolite differences per cluster')\n",
    "\n",
    "fig.tight_layout()"
   ]
  }
 ],
 "metadata": {
  "kernelspec": {
   "display_name": "python3.6",
   "language": "python",
   "name": "python3.6"
  },
  "language_info": {
   "codemirror_mode": {
    "name": "ipython",
    "version": 3
   },
   "file_extension": ".py",
   "mimetype": "text/x-python",
   "name": "python",
   "nbconvert_exporter": "python",
   "pygments_lexer": "ipython3",
   "version": "3.6.9"
  }
 },
 "nbformat": 4,
 "nbformat_minor": 2
}
